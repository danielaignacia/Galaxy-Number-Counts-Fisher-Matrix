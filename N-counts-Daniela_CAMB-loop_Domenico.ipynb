{
 "cells": [
  {
   "cell_type": "markdown",
   "metadata": {},
   "source": [
    "# Fisher matrix for N-counts (by Domenico Sapone): SOAPFish-release\n",
    "(June 2020)"
   ]
  },
  {
   "cell_type": "markdown",
   "metadata": {},
   "source": [
    "## Import libraries and ... stuff"
   ]
  },
  {
   "cell_type": "code",
   "execution_count": 1,
   "metadata": {},
   "outputs": [
    {
     "ename": "ModuleNotFoundError",
     "evalue": "No module named 'classy'",
     "output_type": "error",
     "traceback": [
      "\u001b[0;31m---------------------------------------------------------------------------\u001b[0m",
      "\u001b[0;31mModuleNotFoundError\u001b[0m                       Traceback (most recent call last)",
      "\u001b[0;32m<ipython-input-1-983811a16700>\u001b[0m in \u001b[0;36m<module>\u001b[0;34m\u001b[0m\n\u001b[1;32m     27\u001b[0m \u001b[0;31m# Class\u001b[0m\u001b[0;34m\u001b[0m\u001b[0;34m\u001b[0m\u001b[0;34m\u001b[0m\u001b[0m\n\u001b[1;32m     28\u001b[0m \u001b[0;34m\u001b[0m\u001b[0m\n\u001b[0;32m---> 29\u001b[0;31m \u001b[0;32mfrom\u001b[0m \u001b[0mclassy\u001b[0m \u001b[0;32mimport\u001b[0m \u001b[0mClass\u001b[0m\u001b[0;34m\u001b[0m\u001b[0;34m\u001b[0m\u001b[0m\n\u001b[0m\u001b[1;32m     30\u001b[0m \u001b[0;34m\u001b[0m\u001b[0m\n\u001b[1;32m     31\u001b[0m \u001b[0;31m# Camb\u001b[0m\u001b[0;34m\u001b[0m\u001b[0;34m\u001b[0m\u001b[0;34m\u001b[0m\u001b[0m\n",
      "\u001b[0;31mModuleNotFoundError\u001b[0m: No module named 'classy'"
     ]
    }
   ],
   "source": [
    "# Useful packages\n",
    "\n",
    "import matplotlib\n",
    "import matplotlib.pyplot as plt\n",
    "import numpy as np\n",
    "import matplotlib.gridspec as gridspec\n",
    "import math\n",
    "from math import *\n",
    "import scipy.special as ssp\n",
    "import scipy.stats as stats\n",
    "\n",
    "import time\n",
    "\n",
    "import scipy \n",
    "import pandas as pd\n",
    "from scipy import interpolate\n",
    "from scipy.misc import derivative\n",
    "import scipy.integrate as integrate\n",
    "\n",
    "from functools import reduce #python 3\n",
    "from numpy.linalg import inv\n",
    "import itertools\n",
    "from scipy.interpolate import interp1d\n",
    "\n",
    "import pickle\n",
    "\n",
    "# Class\n",
    "\n",
    "from classy import Class\n",
    "\n",
    "# Camb\n",
    "\n",
    "import camb\n",
    "from camb import model, initialpower\n",
    "\n",
    "# Additional \n",
    "\n",
    "interp_type = 'cubic'\n",
    "pow = np.power\n"
   ]
  },
  {
   "cell_type": "markdown",
   "metadata": {},
   "source": [
    "Libreria Pickle es para guardar objetos (matrices gigantes, listas, lo que sea) que hayas generado en el codigo. La gracia es que no tienes que preocuparte de hacerle un reshape o algo para que encaje en cierto formato (por ej tipo tabla para un csv). Simplemente se guarda en la memoria tal cual esta y ya."
   ]
  },
  {
   "cell_type": "markdown",
   "metadata": {},
   "source": [
    "## Cosmology"
   ]
  },
  {
   "cell_type": "code",
   "execution_count": null,
   "metadata": {},
   "outputs": [],
   "source": [
    "[omegamh2ref,  href, omegabh2ref, nsref, sigma8ref] = [0.143648,  0.67, 0.022445, 0.96, 0.852616]\n",
    "[omegamref, omegabref] = [omegamh2ref/href**2, omegabh2ref/href**2]\n",
    "[massivenus, onu, Neff] = [1, 0.00143717, 2.046]\n",
    "\n",
    "href2 = pow(href,2)\n",
    "\n",
    "omeganh2ref = onu*href2\n",
    "omegach2ref = omegamh2ref - omegabh2ref - omeganh2ref;\n",
    "\n",
    "#this is in km/sec\n",
    "clight = 299792.458;\n",
    "\n",
    "# steps for derivatives, for H and Da is larger\n",
    "eps = 0.01\n",
    "\n",
    "cosmpar = [omegabh2ref, href, omegamh2ref, nsref, 0, 1]\n",
    "parin = ['wb','h', 'wm', 'ns','a','fz']"
   ]
  },
  {
   "cell_type": "markdown",
   "metadata": {},
   "source": [
    "## Creando las especificaciones de HSC"
   ]
  },
  {
   "cell_type": "code",
   "execution_count": null,
   "metadata": {},
   "outputs": [],
   "source": [
    "# Cosmology\n",
    "\n",
    "def E(z,om):\n",
    "    z1 = 1.0 + z\n",
    "    a1 = om*(z1**3.) + (1-om)\n",
    "    return np.sqrt(a1)\n",
    "\n",
    "def f(z,om):\n",
    "    return 1/E(z,om)\n",
    "\n",
    "def rr(z,om):\n",
    "    integral = scipy.integrate.quad(lambda x:f(x,om),0,z,)[0] # flat cosmology\n",
    "    return 3000*integral\n",
    "\n",
    "# we want to get kmax given the lmax=10000 (lmin = 8)\n",
    "\n",
    "D_z = rr(0.1,omegamh2ref/href**2) # comoving distance, where 0.1 is the min redshift used\n",
    "\n",
    "k_max = 10000/D_z\n",
    "k_min = 8/D_z\n",
    "\n",
    "print 'k = ',k_max, 'and D(z) = ',D_z, 'Mpc'\n",
    "print 'k min = ',k_min\n",
    "\n",
    "# k and z\n",
    "\n",
    "z_1 = np.arange(0.1,1.5,0.05) # len z_1 = 28\n",
    "\n",
    "k = np.logspace(-2, np.log10(k_max), num=500)\n",
    "\n",
    "# creating the bins for redshift galaxy distributions\n",
    "\n",
    "zbin = z_1[0::2]\n",
    "zlist = z_1[1::2]"
   ]
  },
  {
   "cell_type": "markdown",
   "metadata": {},
   "source": [
    "## CAMB: Matter power spectrum, primordial spectrum, transfer function, growth function"
   ]
  },
  {
   "cell_type": "code",
   "execution_count": null,
   "metadata": {},
   "outputs": [],
   "source": [
    "pars = camb.CAMBparams()\n",
    "pars.set_cosmology(H0=href*100, ombh2=omegabh2ref, omch2=omegach2ref)\n",
    "pars.InitPower.set_params(ns=nsref)\n",
    "pars.set_matter_power(redshifts=z_1, kmax=k_max)"
   ]
  },
  {
   "cell_type": "code",
   "execution_count": null,
   "metadata": {},
   "outputs": [],
   "source": [
    "pars.NonLinear = model.NonLinear_none\n",
    "results = camb.get_results(pars)\n",
    "kh3,zs,Plin = results.get_linear_matter_power_spectrum(hubble_units=False, k_hunit=False)\n",
    "Pk = []\n",
    "for z in range(len(z_1)):\n",
    "    Pk.append(Plin[z,:])"
   ]
  },
  {
   "cell_type": "markdown",
   "metadata": {},
   "source": [
    "### Probando growth factor con CAMB"
   ]
  },
  {
   "cell_type": "code",
   "execution_count": null,
   "metadata": {},
   "outputs": [],
   "source": [
    "growthfactor = results.get_redshift_evolution(k,z_1,vars=['growth'])"
   ]
  },
  {
   "cell_type": "code",
   "execution_count": null,
   "metadata": {},
   "outputs": [],
   "source": [
    "print np.shape(growthfactor), len(k), len(z_1)"
   ]
  },
  {
   "cell_type": "code",
   "execution_count": null,
   "metadata": {},
   "outputs": [],
   "source": [
    "growthfactor[0][-1]"
   ]
  },
  {
   "cell_type": "markdown",
   "metadata": {},
   "source": [
    "La idea es compararla con CLASS que está mas abajo... independiente de si son muy parecidos o no, el punto es que debería ser independiente de k y varia un poco"
   ]
  },
  {
   "cell_type": "code",
   "execution_count": null,
   "metadata": {},
   "outputs": [],
   "source": [
    "growthfactor[1][-1]"
   ]
  },
  {
   "cell_type": "code",
   "execution_count": null,
   "metadata": {},
   "outputs": [],
   "source": [
    "growthfactor[167][-1]"
   ]
  },
  {
   "cell_type": "markdown",
   "metadata": {},
   "source": [
    "Primordial power spectrum Fiducial"
   ]
  },
  {
   "cell_type": "code",
   "execution_count": null,
   "metadata": {},
   "outputs": [],
   "source": [
    "trans = results.get_matter_transfer_data()\n",
    "kh = trans.transfer_data[0,:,0]\n",
    "k = kh*results.Params.h\n",
    "primordial_PK = results.Params.scalar_power(k)\n",
    "\n",
    "primordial = scipy.interpolate.interp1d(k,primordial_PK,kind=interp_type,fill_value='extrapolate')"
   ]
  },
  {
   "cell_type": "markdown",
   "metadata": {},
   "source": [
    "Transfer function"
   ]
  },
  {
   "cell_type": "code",
   "execution_count": null,
   "metadata": {},
   "outputs": [],
   "source": [
    "transfer_fid = []\n",
    "for z in range(len(z_1)):\n",
    "    transfer = trans.transfer_data[model.Transfer_tot-1,:,z]\n",
    "    f = scipy.interpolate.interp1d(k,transfer,kind=interp_type,fill_value='extrapolate')\n",
    "    transfer_fid.append(f)"
   ]
  },
  {
   "cell_type": "markdown",
   "metadata": {},
   "source": [
    "### Growth function con CLASS"
   ]
  },
  {
   "cell_type": "code",
   "execution_count": null,
   "metadata": {},
   "outputs": [],
   "source": [
    "a_s = 2e-09\n",
    "params = {'output':'mPk','non linear':'halofit','omega_b':omegabh2ref,'omega_cdm':omegach2ref,'h':href,'A_s':a_s,'n_s':nsref,'P_k_max_1/Mpc':k_max,'z_max_pk':2.}\n",
    "cosmo = Class()\n",
    "cosmo.set(params)\n",
    "cosmo.compute()\n",
    "dz_fid = []\n",
    "for z1 in z_1:\n",
    "    lineargrowth = cosmo.scale_independent_growth_factor(z1)\n",
    "    dz_fid.append(lineargrowth)\n"
   ]
  },
  {
   "cell_type": "code",
   "execution_count": null,
   "metadata": {},
   "outputs": [],
   "source": [
    "dz_fid[0]"
   ]
  },
  {
   "cell_type": "code",
   "execution_count": null,
   "metadata": {},
   "outputs": [],
   "source": [
    "eps=0.01\n",
    "def lado(lado):\n",
    "    if lado=='r':\n",
    "        valor = 1+eps\n",
    "    elif lado=='l':\n",
    "        valor = 1-eps\n",
    "    return valor"
   ]
  },
  {
   "cell_type": "markdown",
   "metadata": {},
   "source": [
    "## Right"
   ]
  },
  {
   "cell_type": "markdown",
   "metadata": {},
   "source": [
    "Ojo en principio k_max tambien cambia evaluando parametros a la derecha y a la izquierda, pero la verdad es que no deberia cambiar mucho y ya >20 contribuye bastante poco"
   ]
  },
  {
   "cell_type": "code",
   "execution_count": null,
   "metadata": {},
   "outputs": [],
   "source": [
    "side1 = 'r'\n",
    "cosmo1 = [omegabh2ref, href, omegach2ref, nsref]\n",
    "cosmo_der = list(np.array(cosmo1)*lado(side1))\n",
    "\n",
    "keyz = ['output', 'non linear', 'P_k_max_1/Mpc','z_max_pk']\n",
    "value = ['mPkl', 'halofit', k_max, 2.]\n",
    "cosm = ['omega_b','h','omega_cdm','n_s']\n",
    "\n",
    "CLR=[]\n",
    "\n",
    "primordial_right = []\n",
    "transfer_right = []\n",
    "dz_der = []\n",
    "keis_r = []\n",
    "dz_der = []\n",
    "\n",
    "for i in range(len(cosmo1)):\n",
    "    \n",
    "    if i!=2:\n",
    "        param_fid_der = cosmo1[:i]+[cosmo_der[i]]+cosmo1[i+1:]\n",
    "        href1 = param_fid_der[1]\n",
    "        \n",
    "    elif i==2:\n",
    "        param_fid_der = [omegabh2ref, href*lado(side1), omegach2ref*lado(side1) + omegabh2ref*eps, nsref]\n",
    "        href1 = param_fid_der[1]\n",
    "        \n",
    "    dic_param_fid_der = dict(zip(cosm,param_fid_der))\n",
    "    dic = dict(zip(keyz,value))\n",
    "    dic.update(dic_param_fid_der)\n",
    "    cosmor = Class()\n",
    "    cosmor.set(dic)\n",
    "    cosmor.compute()\n",
    "    \n",
    "    pars = camb.CAMBparams()\n",
    "    \n",
    "    pars.set_cosmology(H0=param_fid_der[1]*100, ombh2=param_fid_der[0], omch2=param_fid_der[2])\n",
    "    pars.InitPower.set_params(ns=param_fid_der[3])\n",
    "    pars.set_matter_power(redshifts=z_1, kmax=k_max)\n",
    "    pars.NonLinear = model.NonLinear_none\n",
    "    results = camb.get_results(pars)\n",
    "    \n",
    "    kh2,zs,Plin = results.get_linear_matter_power_spectrum(hubble_units=False, k_hunit=False)\n",
    "    keis_r.append(kh2)\n",
    "    \n",
    "    trans = results.get_matter_transfer_data()\n",
    "\n",
    "    per_param = []\n",
    "    transfer_right_per_param = []\n",
    "    dz_per_param = []\n",
    "    \n",
    "    kh = trans.transfer_data[0,:,0]\n",
    "    k = kh*results.Params.h\n",
    "    primordial_PK = results.Params.scalar_power(k)\n",
    "    f1 = scipy.interpolate.interp1d(k,primordial_PK,kind=interp_type,fill_value='extrapolate')\n",
    "    primordial_right.append(f1)\n",
    "    \n",
    "    for z in range(len(z_1)):\n",
    "\n",
    "        per_param.append(Plin[z,:])\n",
    "        \n",
    "        transfer = trans.transfer_data[model.Transfer_tot-1,:,z]\n",
    "        f = scipy.interpolate.interp1d(k,transfer,kind=interp_type,fill_value='extrapolate')\n",
    "        transfer_right_per_param.append(f)\n",
    "        lineargrowth = cosmo.scale_independent_growth_factor(z)\n",
    "        dz_per_param.append(lineargrowth)\n",
    "        \n",
    "    dz_der.append(dz_per_param)\n",
    "    CLR.append(per_param)   \n",
    "    transfer_right.append(transfer_right_per_param)"
   ]
  },
  {
   "cell_type": "code",
   "execution_count": null,
   "metadata": {},
   "outputs": [],
   "source": [
    "zetas=[0,27]\n",
    "for i in zetas:\n",
    "    plt.loglog(keis_r[0],per_param[i],c='r',label='1',linewidth=5.0)\n",
    "    plt.loglog(keis_r[1],per_param[i],c='g',label='2',linewidth=3.0)\n",
    "    plt.loglog(keis_r[2],per_param[i],c='b',label='3',linewidth=.5)\n",
    "    plt.legend()"
   ]
  },
  {
   "cell_type": "markdown",
   "metadata": {},
   "source": [
    "## Left"
   ]
  },
  {
   "cell_type": "code",
   "execution_count": null,
   "metadata": {},
   "outputs": [],
   "source": [
    "side1 = 'l'\n",
    "cosmo_izq = list(np.array(cosmo1)*lado(side1))\n",
    "\n",
    "keyz = ['output', 'non linear', 'P_k_max_1/Mpc','z_max_pk']\n",
    "value = ['mPkl', 'halofit', k_max, 2.]\n",
    "cosm = ['omega_b','h','omega_cdm','n_s']\n",
    "\n",
    "CLL=[]\n",
    "primordial_left = []\n",
    "transfer_left = []\n",
    "dz_left = []\n",
    "keis_l = []\n",
    "for i in range(len(cosmo1)):\n",
    "    if i!=2:\n",
    "        param_fid_der = cosmo1[:i]+[cosmo_izq[i]]+cosmo1[i+1:]\n",
    "        href1 = param_fid_der[1]\n",
    "    elif i==2:\n",
    "        param_fid_der = [omegabh2ref, href*lado(side1), omegach2ref*lado(side1) - omegabh2ref*eps, nsref]\n",
    "        href1 = param_fid_der[1]\n",
    "    \n",
    "    dic_param_fid_der = dict(zip(cosm,param_fid_der))\n",
    "    dic = dict(zip(keyz,value))\n",
    "    dic.update(dic_param_fid_der)\n",
    "    cosmor = Class()\n",
    "    cosmor.set(dic)\n",
    "    cosmor.compute()\n",
    "    \n",
    "    pars.set_cosmology(H0=param_fid_der[1]*100, ombh2=param_fid_der[0], omch2=param_fid_der[2])\n",
    "    pars.InitPower.set_params(ns=param_fid_der[3])\n",
    "    pars.set_matter_power(redshifts=z_1, kmax=k_max)\n",
    "    pars.NonLinear = model.NonLinear_none\n",
    "    results = camb.get_results(pars)\n",
    "    \n",
    "    kh2,zs,Plin = results.get_linear_matter_power_spectrum(hubble_units=False, k_hunit=False)\n",
    "    keis_l.append(kh2)\n",
    "    \n",
    "    trans = results.get_matter_transfer_data()\n",
    "\n",
    "    per_param = []\n",
    "    transfer_left_per_param = []\n",
    "    dz_per_param = []\n",
    "    \n",
    "    kh = trans.transfer_data[0,:,0]\n",
    "    k = kh*results.Params.h\n",
    "    primordial_PK = results.Params.scalar_power(k)\n",
    "    f1 = scipy.interpolate.interp1d(k,primordial_PK,kind=interp_type,fill_value='extrapolate')\n",
    "    primordial_left.append(f1)\n",
    "    \n",
    "    for z in range(len(z_1)):\n",
    "\n",
    "        per_param.append(Plin[z,:])\n",
    "        #print i, z, len(Plin[z,:]), len(kh2)\n",
    "        transfer = trans.transfer_data[model.Transfer_tot-1,:,z]\n",
    "        f = scipy.interpolate.interp1d(k,transfer,kind=interp_type,fill_value='extrapolate')\n",
    "        transfer_left_per_param.append(f)\n",
    "        \n",
    "        lineargrowth = cosmo.scale_independent_growth_factor(z)\n",
    "        dz_per_param.append(lineargrowth)\n",
    "\n",
    "    transfer_left.append(transfer_left_per_param)\n",
    "    CLL.append(per_param)\n",
    "    dz_left.append(dz_per_param)"
   ]
  },
  {
   "cell_type": "markdown",
   "metadata": {},
   "source": [
    "### Modificamos los anteriores arreglos agregando dos fiducial al final, pues esos serviran para pi=4 y pi=5"
   ]
  },
  {
   "cell_type": "code",
   "execution_count": null,
   "metadata": {},
   "outputs": [],
   "source": [
    "for i in range(2): \n",
    "    primordial_right.append(primordial)\n",
    "    primordial_left.append(primordial)\n",
    "    transfer_right.append(transfer_fid)\n",
    "    transfer_left.append(transfer_fid)\n"
   ]
  },
  {
   "cell_type": "code",
   "execution_count": null,
   "metadata": {},
   "outputs": [],
   "source": [
    "for i in range(2):\n",
    "    dz_left.append(dz_fid)\n",
    "    dz_der.append(dz_fid)"
   ]
  },
  {
   "cell_type": "code",
   "execution_count": null,
   "metadata": {},
   "outputs": [],
   "source": [
    "def primordialf(k):\n",
    "    return primordial(k)\n",
    "\n",
    "def primordialr(k,pi): # k float\n",
    "    prim = primordial_right[pi]\n",
    "    return prim(k)\n",
    "\n",
    "def primordiall(k,pi):\n",
    "    prim = primordial_left[pi]\n",
    "    return prim(k)\n",
    "\n",
    "def transfer(z,k,pi,side): # z index, k float\n",
    "    \n",
    "    if side==0 or pi==5 or pi==4:\n",
    "        tf = transfer_fid[z]\n",
    "    elif side==1:\n",
    "        tf = transfer_right[pi][z]\n",
    "    elif side==-1:\n",
    "        tf = transfer_left[pi][z]\n",
    "    valor = tf(k)    \n",
    "    return valor\n"
   ]
  },
  {
   "cell_type": "markdown",
   "metadata": {},
   "source": [
    "## Background quantities"
   ]
  },
  {
   "cell_type": "code",
   "execution_count": null,
   "metadata": {},
   "outputs": [],
   "source": [
    "#Units of Mpc/h or h/Mpc it's like setting h=1 \n",
    "\n",
    "def sp(pi, pj):\n",
    "    if pi==pj: return 1\n",
    "    else: return 0\n",
    "    \n",
    "def hubble(z, h, wm, pi, side):\n",
    "    if side==1: return 100*h*(1+eps*sp(pi, 1))*np.sqrt(wm*(1+eps*sp(pi, 2))*(1+z)**3/(h*(1+eps*sp(pi, 1)))**2+ 1-wm*(1+eps*sp(pi, 2))/(h*(1+eps*sp(pi, 1)))**2)\n",
    "    if side==0: return 100*h*np.sqrt(wm*(1+z)**3/(h**2) + 1-wm/(h**2))\n",
    "    if side==-1: return 100*h*(1-eps*sp(pi, 1))*np.sqrt(wm*(1-eps*sp(pi, 2))*(1+z)**3/(h*(1-eps*sp(pi, 1)))**2+ 1-wm*(1-eps*sp(pi, 2))/(h*(1-eps*sp(pi, 1)))**2)\n",
    "\n",
    "\n",
    "\n",
    "def int_dcom(z, h, wm, pi, side):\n",
    "    return clight/hubble(z,h,wm, pi, side)\n",
    "\n",
    "def dcom0(z, h, wm, pi, side):\n",
    "    intdcom = scipy.integrate.quad(int_dcom,  0.,  z, args = (h, wm, pi, side))[0]\n",
    "    return intdcom\n",
    "\n",
    "dcom = np.vectorize(dcom0)\n",
    "\n",
    "def da(z, h, wm, pi, side):\n",
    "    return dcom(z, h, wm, pi, side)/(1+z)\n",
    "\n",
    "\n",
    "#the volume should not change with the cosmoslogy? \n",
    "def volumesurvey(z1, z2, h, wm): #*pow(1,3)\n",
    "    radtoarea = 4*np.pi/3/(4*np.pi*pow(180/np.pi,2))\n",
    "    return radtoarea*(pow((1+z2)*da(z2, h, wm, 0, 0),3)-pow((1+z1)*da(z1, h, wm, 0, 0),3))\n",
    "     \n",
    "    \n",
    "\n",
    "\n",
    "def dvol(i, h, wm):\n",
    "    return volumesurvey(zbin[i], zbin[i+1], h, wm)\n",
    "        "
   ]
  },
  {
   "cell_type": "code",
   "execution_count": null,
   "metadata": {},
   "outputs": [],
   "source": [
    "int_dcom(0, href, omegamh2ref, 1, 0)"
   ]
  },
  {
   "cell_type": "markdown",
   "metadata": {},
   "source": [
    "## Setting some constants useful for N-counts\n",
    "think whether this should change with the cosmology or not: I'm assuming it does, but for no obvious reasons."
   ]
  },
  {
   "cell_type": "code",
   "execution_count": null,
   "metadata": {},
   "outputs": [],
   "source": [
    "mpckm =  3.086*10**19 #Mpc to km\n",
    "kmmpc = 1/(3.086*10**19) #km to Mpc\n",
    "\n",
    "\n",
    "#G is in km**3/kg/sec**2 converted in Mpc**3/kg/sec**2\n",
    "Gnewton = 6.674*10**(-20.)*kmmpc**3\n",
    "\n",
    "#clight = 299792.458 #km/sec\n",
    "def hubconst(h, side):\n",
    "    #this has units in 1/s\n",
    "    if side==1: return 100*h*(1+eps)*kmmpc\n",
    "    elif side==0: return 100*h*kmmpc\n",
    "    elif side==-1: return 100*h*(1-eps)*kmmpc\n",
    "\n",
    "\n",
    "def ee(z, h,  wm, pi, side):\n",
    "    if side==1: return np.sqrt(wm*(1+eps*sp(pi, 2))*(1+z)**3/(h*(1+eps*sp(pi, 1)))**2+ 1-wm*(1+eps*sp(pi, 2))/(h*(1+eps*sp(pi, 1)))**2)\n",
    "    if side==0: return np.sqrt(wm*(1+z)**3/(h**2) + 1-wm/(h**2))\n",
    "    if side==-1: return np.sqrt(wm*(1-eps*sp(pi, 2))*(1+z)**3/(h*(1-eps*sp(pi, 1)))**2+ 1-wm*(1-eps*sp(pi, 2))/(h*(1-eps*sp(pi, 1)))**2)\n",
    "\n",
    "\n",
    "#scale depending on the mass: it has to be in Mpc as k has units in 1/Mpc\n",
    "def rm(m, z, h, wm, pi, side):\n",
    "    return (2*Gnewton*m/(hubconst(h, side)*ee(z, h, wm, pi, side))**2)**(1/3.)\n",
    "\n",
    "\n",
    "def rhoc(h, side):\n",
    "    \n",
    "    #background density of the universe in kg/Mpc**3\n",
    "    return 3*hubconst(h, side)**2/(8*np.pi*Gnewton)\n",
    "\n",
    "\n",
    "def rhob(z, h, wm, pi, side):\n",
    "    if side==1: return rhoc(h, side)*wm*(1+eps*sp(pi, 2))/(h*(1+eps*sp(pi, 1)))**2\n",
    "    elif side==0: return rhoc(h, side)*wm/h**2\n",
    "    elif side==-1: return rhoc(h, side)*wm*(1-eps*sp(pi, 2))/(h*(1-eps*sp(pi, 1)))**2\n",
    "\n"
   ]
  },
  {
   "cell_type": "code",
   "execution_count": null,
   "metadata": {},
   "outputs": [],
   "source": [
    "rm(10**45., 0.1, 0.67, 0.14, 1, 0)"
   ]
  },
  {
   "cell_type": "code",
   "execution_count": null,
   "metadata": {},
   "outputs": [],
   "source": [
    "ee(0.1, 0.67, 0.14, 5, 1)"
   ]
  },
  {
   "cell_type": "markdown",
   "metadata": {},
   "source": [
    "## Reading power spectra from CAMB"
   ]
  },
  {
   "cell_type": "code",
   "execution_count": null,
   "metadata": {},
   "outputs": [],
   "source": [
    "\n",
    "#Call the Pks and make matrices with interpolated files: faster because info is stored \n",
    "\n",
    "# This I need to change from units in h/Mpc to 1/Mpc\n",
    "def hsr(pi):\n",
    "    if pi ==1: return href*(1+eps)\n",
    "    else: return href\n",
    "\n",
    "def hsl(pi): ######## aqui cambie porque decia pi==1\n",
    "    if pi ==-1: return href*(1-eps)\n",
    "    else: return href\n",
    "    \n",
    "    \n",
    "#k = np.logspace(-2, np.log10(k_max), num=217)\n",
    "vecintpk = []\n",
    "for zi in range(len(zlist)):\n",
    "    pks=Pk[zi]\n",
    "    interpolpk = scipy.interpolate.interp1d(np.log(kh3),np.log(pks),kind=interp_type,fill_value='extrapolate')\n",
    "    vecintpk.append(interpolpk)\n",
    "\n",
    "vecintpkr = []\n",
    "cantidad = len(zlist)\n",
    "for zi in range(cantidad):\n",
    "    vecintpkr.append([])\n",
    "    for pi in range(len(cosmo1)):\n",
    "        k = keis_r[pi]\n",
    "        cls=CLR[pi]\n",
    "        pksr=cls[zi]\n",
    "        vecintpkr[zi].append(scipy.interpolate.interp1d(np.log(k),np.log(pksr),kind=interp_type,fill_value='extrapolate'))\n",
    "\n",
    "vecintpkl = []\n",
    "for zi in range(cantidad):\n",
    "    vecintpkl.append([])\n",
    "    for pi in range(len(cosmo1)):\n",
    "        k = keis_l[pi]\n",
    "        cls=CLL[pi]\n",
    "        pksl=cls[zi]\n",
    "        #print pi,len(pksl), len(kh2), len(pksr)\n",
    "        vecintpkl[zi].append(scipy.interpolate.interp1d(np.log(k),np.log(pksl),kind=interp_type,fill_value='extrapolate'))\n",
    "   \n",
    "\n"
   ]
  },
  {
   "cell_type": "code",
   "execution_count": null,
   "metadata": {},
   "outputs": [],
   "source": [
    "\n",
    "\n",
    "#interpolation of the fiducial Pks in k\n",
    "def intpks(zi,k): #DS Takes true k (not an index)\n",
    "    return np.exp(vecintpk[zi](np.log(k)))\n",
    "\n",
    "#interpolation of the fiducial log Pks in k\n",
    "def intlogpks(zi,k): \n",
    "    return vecintpk[zi](np.log(k))\n",
    "\n",
    "\n",
    "#interpolation of the right Pks in k\n",
    "def intpksr(zi,k, pi): \n",
    "    return np.exp(vecintpkr[zi][pi](np.log(k)))\n",
    "\n",
    "#interpolation of the right log Pks in k\n",
    "def intlogpksr(zi,k,pi): \n",
    "    return vecintpkr[zi][pi](np.log(k))\n",
    "\n",
    "\n",
    "#interpolation of the left Pks in k\n",
    "def intpksl(zi, k, pi): \n",
    "    return np.exp(vecintpkl[zi][pi](np.log(k)))\n",
    "\n",
    "\n",
    "#interpolation of the left log Pks in k                  \n",
    "def intlogpksl(zi,k,pi): \n",
    "    return vecintpkl[zi][pi](np.log(k))\n",
    "\n"
   ]
  },
  {
   "cell_type": "markdown",
   "metadata": {},
   "source": [
    "# Testing the Pk evaluated by CAMB and the growth factor defined"
   ]
  },
  {
   "cell_type": "markdown",
   "metadata": {},
   "source": [
    "# Evaluating the rms density fluctuations "
   ]
  },
  {
   "cell_type": "markdown",
   "metadata": {},
   "source": [
    "\\begin{equation}\n",
    "        \\sigma^2(M,z)= \\frac{1}{2\\pi^2}\\int_{k_{\\rm m}}^{k_{\\rm M}} k^2 P(k,z)W^2(k\\,R(M)){\\rm d}k\n",
    "\\end{equation}\n",
    "we do not use the growth factor $G(z)$ but we let the $P(k)$ vary with $z$ and \n",
    "\\begin{eqnarray}\n",
    "        W(x) &=& \\frac{3}{x^3}\\left(\\sin(x)-x\\,\\cos(x)\\right)\\\\\n",
    "        R(M) &=& \\left(\\frac{3 M}{4\\pi \\rho_b(z)}\\right)^{1/3}\\\\\n",
    "\\end{eqnarray}\n",
    "and a new variable was defined to be\n",
    "\\begin{equation}\n",
    "\\nu = \\delta_c/\\sigma(M,z)\n",
    "\\end{equation}\n",
    "being $\\delta_c = 1.686$"
   ]
  },
  {
   "cell_type": "code",
   "execution_count": null,
   "metadata": {},
   "outputs": [],
   "source": [
    "min_k = min(kh3)\n",
    "min_k"
   ]
  },
  {
   "cell_type": "code",
   "execution_count": null,
   "metadata": {},
   "outputs": [],
   "source": [
    "#defining the top-hat filter\n",
    "def window(x):\n",
    "    return 3.0*(np.sin(x)-x*np.cos(x))/x**3.\n",
    "\n",
    "\n",
    "kminint = min(kh3)\n",
    "kmaxint = k_max\n",
    "\n",
    "\n",
    "#For the moment I don't need the growth factor because the Pk have been evaluated at different z\n",
    "# which means they've been properly evaluated\n",
    "def intwind(k, zi,  m, h, wm, pi, side):\n",
    "    \n",
    "    if (side==1 and pi==4) or (side==1 and pi==5):\n",
    "        return k**2*intpks(zi,k)*window(k*rm(m, zlist[zi], h, wm, pi, side))**2\n",
    "    \n",
    "    elif (side==-1 and pi==4) or (side==-1 and pi==5):\n",
    "        return k**2*intpks(zi,k)*window(k*rm(m, zlist[zi], h, wm, pi, side))**2\n",
    "    \n",
    "    elif side==1:\n",
    "        return k**2*intpksr(zi,k, pi)*window(k*rm(m, zlist[zi], h, wm, pi, side))**2\n",
    "    \n",
    "    elif side == 0: \n",
    "        #print 'rpks',intpks(zi,k)\n",
    "        return k**2*intpks(zi,k)*window(k*rm(m, zlist[zi], h, wm, pi, side))**2\n",
    "    \n",
    "    elif side == -1: return k**2*intpksl(zi,k, pi)*window(k*rm(m, zlist[zi], h, wm, pi, side))**2\n",
    "    \n",
    "\n",
    "\n",
    "def smfunc(zi, m, h, wm, pi, side):\n",
    "    kgrid = np.linspace(np.log(kminint), np.log(kmaxint), 2**8+1)\n",
    "    dk = np.diff(kgrid)[0]\n",
    "    intwind1 = intwind(np.exp(kgrid), zi,  m, h, wm, pi, side)*np.exp(kgrid)\n",
    "    #print intwind1\n",
    "    #I1 = np.cumsum(dk*intwind1)\n",
    "    I1 =  scipy.integrate.romb(intwind1, dx=dk)\n",
    "    return np.sqrt(I1/(2*pow(np.pi,2)))\n",
    "\n",
    "\n",
    "\n",
    "def lnsmfunc(zi, m, h, wm, pi, side):\n",
    "    kgrid = np.linspace(np.log(kminint), np.log(kmaxint), 2**8+1)\n",
    "    dk = np.diff(kgrid)[0]\n",
    "    intwind1 = intwind(np.exp(kgrid), zi,  m, h, wm, pi, side)*np.exp(kgrid)\n",
    "    I1 =  scipy.integrate.romb(intwind1, dx=dk)\n",
    "    return np.log(np.sqrt(I1/(2*pow(np.pi,2))))\n",
    "\n",
    "\n",
    "\n",
    "\n",
    "\n",
    "# nu = log(d_c/sigma)\n",
    "def invlnsmfunc(zi, m, h, wm, pi, side):\n",
    "    dc = 1.686\n",
    "    return np.log(dc/smfunc(zi, m, h, wm, pi, side))\n",
    "\n",
    "\n",
    "\n",
    "# dln\\sigma**-1/dlnM\n",
    "def dlninvsdlnm(zi, m, h, wm, pi, side):\n",
    "   \n",
    "    dright = invlnsmfunc(zi, m**(1+eps), h, wm, pi, side)\n",
    "    dleft = invlnsmfunc(zi, m**(1-eps), h, wm, pi, side)\n",
    "    return (dright-dleft)/(2*eps*np.log(np.float(m)))\n",
    " \n",
    "    \n",
    "\n",
    "# dln\\sigma**-1/dM\n",
    "def dlninvsdm(zi, m, h, wm, pi, side):\n",
    "   \n",
    "    dright = invlnsmfunc(zi, m*(1+eps), h, wm, pi, side)\n",
    "    dleft = invlnsmfunc(zi, m*(1-eps), h, wm, pi, side)\n",
    "    return (dright-dleft)/(2*eps*m)\n",
    "    \n",
    "    \n",
    "# d\\nu/dM\n",
    "def dnudm(zi, m, h, wm, pi, side):\n",
    "    dc = 1.686\n",
    "    nuright = dc/smfunc(zi, m*(1+eps), h, wm, pi, side)\n",
    "    nuleft = dc/smfunc(zi, m*(1-eps), h, wm, pi, side)\n",
    "   \n",
    "    return (nuright-nuleft)/(2*eps*m)\n",
    "    \n"
   ]
  },
  {
   "cell_type": "code",
   "execution_count": null,
   "metadata": {},
   "outputs": [],
   "source": [
    "smfunc(1, 10**45., href, omegamh2ref, 1, 0)"
   ]
  },
  {
   "cell_type": "markdown",
   "metadata": {},
   "source": [
    "# Some tests"
   ]
  },
  {
   "cell_type": "code",
   "execution_count": null,
   "metadata": {},
   "outputs": [],
   "source": [
    "solar_mass = 2*10**30.\n",
    "init_mass = 10**14.\n",
    "fin_mass = 10**16.\n",
    "\n",
    "\n",
    "expmass = np.arange(np.log10(solar_mass*init_mass), np.log10(solar_mass*fin_mass), 0.2)\n",
    "v_dlninvsdlnm = []\n",
    "for i in range(len(expmass)):\n",
    "    v_dlninvsdlnm.append(dlninvsdlnm(1, 10**expmass[i], href, omegamh2ref, 0, 0))"
   ]
  },
  {
   "cell_type": "markdown",
   "metadata": {},
   "source": [
    "# Mass function for cluster; taken from: arXiv:0005260"
   ]
  },
  {
   "cell_type": "markdown",
   "metadata": {},
   "source": [
    "Sheth Thormen mass function is\n",
    "\\begin{equation}\n",
    "\\frac{dn_{\\rm ST}}{d\\ln\n",
    "M}=\\frac{\\bar{\\rho}}{M}\\nu\\frac{d\\ln\\nu}{d\\ln M} f_{ST}(\\nu) = \\bar{\\rho}\\frac{d\\nu}{d M} f_{ST}(\\nu)\\,,\n",
    "\\end{equation}\n",
    "where \n",
    "\\begin{equation}\n",
    "f_{ST}(\\nu) = A\\sqrt{\\frac{2a}{\\pi}}\\left(1+\\frac{1}{(\\sqrt{a}\\nu)^{2q}}\\right)a\\exp\\left(-\\frac{(\\sqrt{a}\\nu)^2}{2}\\right)\n",
    "\\end{equation}\n",
    "with $A=0.3222$, $a=0.707$, and $q=0.3.$ \n",
    "\n",
    "The constants and the form of the collapse threshold are adjusted somewhat using calibrations from cosmological simulations of structure formation. For this reason, this function is a pretty accurate  representation of the mass function of collapsed halos in cosmological simulations. It is accurate to better than $30\\%$ over galaxy scale masses and has larger error at large masses. "
   ]
  },
  {
   "cell_type": "code",
   "execution_count": null,
   "metadata": {},
   "outputs": [],
   "source": [
    "# Sheth-Tormen differential mass function     \n",
    "def stfun1(zi, m, h, wm, pi, side):\n",
    "    capa = 0.322\n",
    "    a= 0.707\n",
    "    q = 0.3\n",
    "    dc = 1.686\n",
    "    nu = dc/smfunc(zi, m, h, wm, pi, side)\n",
    "    return capa*a*np.sqrt(2/np.pi)*(1+1/(a*nu)**(2**q))*np.exp(-(a*nu)**2/2)\n",
    "\n",
    "\n",
    "#Sheth, Mo & Tormen 2001\n",
    "def stfun(zi, m, h, wm, pi, side):\n",
    "    capa = 0.322\n",
    "    a= 0.707\n",
    "    q = 0.3\n",
    "    dc = 1.686\n",
    "    nu = dc/smfunc(zi, m, h, wm, pi, side)\n",
    "    return capa*np.sqrt(2*a/np.pi)*(1+1/(a*nu**2)**(q))*np.exp(-a/2*nu**2)\n",
    "\n",
    "\n",
    "\n",
    "# Sheth-Tormen differential mass function to plot as a function of sigma\n",
    "def stfun_toplot(zi, m, h, wm, sig):\n",
    "    capa = 0.322\n",
    "    a= 0.707\n",
    "    q = 0.3\n",
    "    dc = 1.686\n",
    "    nu = dc/sig\n",
    "    return capa*np.sqrt(2*a/np.pi)*(1+1/(a*nu**2)**(q))*np.exp(-(a*nu**2)/2)\n",
    "\n",
    "\n",
    "\n",
    "\n",
    "#this is - dn/dM\n",
    "def dndm_st(zi, m, h, wm, pi, side):\n",
    "    # using Sheth and Tormen \n",
    "    # the units number/Volume but I need to express it in Mpc, hence\n",
    "    # I need to convert it dividing it by kmmpc**3 factor \n",
    "    return rhob(zlist[zi], h, wm, pi, side)/m*dnudm(zi, m, h, wm, pi, side)*stfun(zi, m, h, wm, pi, side)#/kmmpc**3\n"
   ]
  },
  {
   "cell_type": "code",
   "execution_count": null,
   "metadata": {},
   "outputs": [],
   "source": [
    "dndm_st(1, 10**45., href, omegamh2ref, 1, 1)"
   ]
  },
  {
   "cell_type": "markdown",
   "metadata": {},
   "source": [
    "## Mass Function: primordial Non-Gaussianities"
   ]
  },
  {
   "cell_type": "markdown",
   "metadata": {},
   "source": [
    "The mass function to work on is\n",
    "\n",
    "\\begin{equation}\n",
    "\\frac{dn}{dM}(M,z) = \\frac{dn_{ST}}{dM}(M,z) \\left[ 1-\\frac{A}{\\delta_c}\\left( 1-\\nu_c^2 + \\frac{1}{(ln\\nu_c)'}\\frac{d}{dM}\\right)\\frac{4\\pi}{V_M}\\int_0^{R_M} dx x^2 sin\\left(\\frac{b(x)\\delta_c(z)}{f_\\zeta}\\right)exp\\left( \\frac{-\\sigma_W^2(x)}{2f_\\zeta^2}\\right)  \\right]\n",
    "\\end{equation}"
   ]
  },
  {
   "cell_type": "markdown",
   "metadata": {},
   "source": [
    "where \n",
    "\\begin{equation}\n",
    "\\sigma^2(x) = \\int_k P_\\zeta(k)\\left( 1-exp(ikx)W(k)\\right) \\qquad W(k) = \\frac{3}{5}W_M(k)\\alpha(k) \\qquad W_M(k)=\\frac{1}{V_M}H(R_M - x)\n",
    "\\end{equation}\n",
    "and\n",
    "\\begin{equation}\n",
    "\\alpha(k) = \\frac{2r_H^2k^2T(k)D(z)}{3\\Omega_m} \\qquad b(x) = \\frac{\\int_k exp(ikx) W(k)P_\\zeta(k)}{\\int_k W^2(k)P_\\zeta(k)}\n",
    "\\end{equation}"
   ]
  },
  {
   "cell_type": "markdown",
   "metadata": {},
   "source": [
    "Also, remember that \n",
    "\\begin{equation}\n",
    "\\int_k = \\frac{1}{2\\pi^3} \\int d^3k\n",
    "\\end{equation}"
   ]
  },
  {
   "cell_type": "markdown",
   "metadata": {},
   "source": [
    "## $R_M$ and $V_M$"
   ]
  },
  {
   "cell_type": "markdown",
   "metadata": {},
   "source": [
    "So first we will define the functions for $R_M = (3M/4\\pi \\bar{\\rho})^{1/3}$ and $V_M$, where $\\bar{\\rho} = \\Omega_m \\rho_{cr}$"
   ]
  },
  {
   "cell_type": "code",
   "execution_count": null,
   "metadata": {},
   "outputs": [],
   "source": [
    "def vm2(m, z, h, wm, pi, side):\n",
    "    return (4*np.pi*(rm(m, z, h, wm, pi, side))**3.)/(3.)"
   ]
  },
  {
   "cell_type": "markdown",
   "metadata": {},
   "source": [
    "## $\\sigma_W^2 (x)$: W(k)"
   ]
  },
  {
   "cell_type": "markdown",
   "metadata": {},
   "source": [
    "#### $W_M(k)$"
   ]
  },
  {
   "cell_type": "code",
   "execution_count": null,
   "metadata": {},
   "outputs": [],
   "source": [
    "def window_m1(k, m, z, h, wm, pi, side):\n",
    "    z2 = z_1[z]\n",
    "    radius = rm(m, z2, h, wm, pi, side)\n",
    "\n",
    "    return vm2(m, z2, h, wm, pi, side)*np.heaviside(radius-k,1)\n"
   ]
  },
  {
   "cell_type": "code",
   "execution_count": null,
   "metadata": {},
   "outputs": [],
   "source": [
    "def alphak(m,k, z, h, wm, pi, side):\n",
    "    \n",
    "    # z debe ser indice!!!, k no debe ser index, pues en transfer se evalua k en la interpolacion\n",
    "    # ojo estoy teniendo valores negativos debido a Transfer function\n",
    " \n",
    "    z1 = z_1[z]\n",
    "    a1 = 2.*(k**2.)*int_dcom(z1, h, wm, pi, side)**2.\n",
    "    \n",
    "    if side==0:\n",
    "        a3 = wm/(h**2)\n",
    "        alph = dz_fid[z]\n",
    " \n",
    "    elif side==1: \n",
    "        a3 = wm*(1+eps*sp(pi, 2))/(h*(1+eps*sp(pi, 1)))**2\n",
    "        alph = dz_der[pi][z] # dz es indep de escala\n",
    "        \n",
    "    elif side==-1: \n",
    "        a3 = wm*(1-eps*sp(pi, 2))/(h*(1-eps*sp(pi, 1)))**2\n",
    "        alph = dz_left[pi][z]\n",
    "        \n",
    "    min_k = min(kh3)\n",
    "    maximo = transfer(z,min_k,pi,side)\n",
    "    return a1*alph*(transfer(z,k,pi,side)/maximo)/(3.*a3)"
   ]
  },
  {
   "cell_type": "markdown",
   "metadata": {},
   "source": [
    "#### W(k)"
   ]
  },
  {
   "cell_type": "code",
   "execution_count": null,
   "metadata": {},
   "outputs": [],
   "source": [
    "def window_ng(k,m, z, h, wm, pi, side): # aqui z index, en window_m1 lo pasa a float\n",
    "    factor = 3/5.\n",
    "    return factor*window_m1(k, m, z, h, wm, pi, side)*alphak(m,k, z, h, wm, pi, side)\n",
    "\n",
    "#window_ng = np.vectorize(window_ng)"
   ]
  },
  {
   "cell_type": "code",
   "execution_count": null,
   "metadata": {},
   "outputs": [],
   "source": [
    "\n",
    "def sigmaw_and_bx(x, m, z, h, wm, pi, side):\n",
    "    \n",
    "    factor = 1./(2*np.pi)**3.\n",
    "    kgrid = np.linspace(np.log(kminint), np.log(kmaxint), 2**8+1)\n",
    "    dk = np.diff(kgrid)[0]\n",
    " \n",
    "    expgrid = np.exp(kgrid)\n",
    "\n",
    "    if side == 0 or pi==5 or pi==4:\n",
    "        primord = primordialf(np.exp(kgrid))\n",
    "        dz = dz_fid[z]\n",
    "        d0 = dz_fid[0]\n",
    "\n",
    "    elif side == 1:\n",
    "        primord = primordialr(np.exp(kgrid),pi)\n",
    "        dz = dz_der[pi][z]\n",
    "        d0 = dz_der[pi][0]\n",
    "    elif side == -1:\n",
    "        primord = primordiall(np.exp(kgrid),pi)\n",
    "        dz = dz_left[pi][z]\n",
    "        d0 = dz_left[pi][0]\n",
    "        \n",
    "\n",
    "    I1 =  scipy.integrate.romb(primord, dx=dk)\n",
    "\n",
    "    integral1 = primord*(np.exp(1j*expgrid*x)*window_ng(expgrid,m, zi, h, wm, pi, side))\n",
    "    integral2 = primord*(window_ng(expgrid,m, zi, h, wm, pi, side))**2.\n",
    "    \n",
    "    I2 =  scipy.integrate.romb(integral1, dx=dk)\n",
    "    I3 =  scipy.integrate.romb(integral2, dx=dk)\n",
    "\n",
    "    b_x = I2.real/I3.real\n",
    "    \n",
    "    s_x = (factor*(I1).real) - ((factor*(I2.real)**2.)/I3.real)\n",
    "\n",
    "    return s_x, b_x, d0/dz\n"
   ]
  },
  {
   "cell_type": "code",
   "execution_count": null,
   "metadata": {},
   "outputs": [],
   "source": [
    "def total_integral(f_zeta,z, m, h, wm, pi, side):\n",
    "    \n",
    "    factor = 1./(2.*np.pi**2.)\n",
    "    \n",
    "    factor1=4*np.pi/vm2(m, z, h, wm, pi, side)\n",
    "    xgrid = np.linspace(0, rm(m, z, h, wm, pi, side), 2**8+1)\n",
    "    dx1 = np.diff(xgrid)[0]\n",
    "\n",
    "    sw, bx, d0dz = sigmaw_and_bx(xgrid, m, z, h, wm, pi, side)\n",
    "    deltac = 1.686*d0dz\n",
    "    \n",
    "    if side==1:      \n",
    "        integer1 = math.sin(bx*deltac/(f_zeta*(1+eps*sp(pi, 5))))*np.exp(-0.5*sw/(f_zeta*(1+eps*sp(pi, 5)))**2.)\n",
    "    elif side==0:\n",
    "        integer1 =math.sin(bx*deltac/(f_zeta))*np.exp(-0.5*sw/(f_zeta)**2.)\n",
    "    elif side==-1:\n",
    "        integer1 =math.sin(bx*deltac/(f_zeta*(1-eps*sp(pi, 5))))*np.exp(-0.5*sw/(f_zeta*(1-eps*sp(pi, 5)))**2.)\n",
    "    \n",
    "    #####################################################################################################\n",
    "    \n",
    "    return scipy.integrate.romb(integer1*xgrid**2, dx=dx1)\n",
    "\n",
    "total_integral1 = np.vectorize(total_integral)"
   ]
  },
  {
   "cell_type": "code",
   "execution_count": null,
   "metadata": {},
   "outputs": [],
   "source": [
    "start = time.time()\n",
    "print total_integral(0.005, 0 , 10**44.2, href, omegamh2ref, 5, 1)\n",
    "print time.time() - start"
   ]
  },
  {
   "cell_type": "markdown",
   "metadata": {},
   "source": [
    "Now we need to evaluate the expression for\n",
    "\n",
    "\\begin{equation}\n",
    "\\sigma^2_W(x) = \\int_k P_\\zeta(k)\\left( 1-exp(ikx)W(k)\\right)\n",
    "\\end{equation}"
   ]
  },
  {
   "cell_type": "markdown",
   "metadata": {},
   "source": [
    "For b(x):\n",
    "    \n",
    "\\begin{equation}\n",
    "b(x) = \\frac{\\int_k exp(ikx) W(k)P_\\zeta(k)}{\\int_k W^2(k)P_\\zeta(k)}\n",
    "\\end{equation}"
   ]
  },
  {
   "cell_type": "code",
   "execution_count": null,
   "metadata": {},
   "outputs": [],
   "source": [
    "def delta_c(zi, h, wm, pi, side):\n",
    "    if side==0:\n",
    "        dz = dz_fid[zi]\n",
    "        d0 = dz_fid[0]\n",
    "\n",
    "    elif side==1:\n",
    "        dz = dz_der[pi][zi]\n",
    "        d0 = dz_der[pi][0]\n",
    "    elif side==-1:\n",
    "        dz = dz_left[pi][zi]\n",
    "        d0 = dz_left[pi][0]\n",
    "        \n",
    "    return 1.686*d0/dz\n"
   ]
  },
  {
   "cell_type": "code",
   "execution_count": null,
   "metadata": {},
   "outputs": [],
   "source": [
    "def sigmx(m, z, h, wm, pi, side):\n",
    "    \n",
    "    factor = 1./(2*np.pi)**3.\n",
    "    kgrid = np.linspace(np.log(kminint), np.log(kmaxint), 2**8+1)\n",
    "    dk = np.diff(kgrid)[0]\n",
    "    \n",
    "    if side == 0 or pi==5 or pi==4:\n",
    "        primord = primordialf(np.exp(kgrid))\n",
    "    elif side == 1:\n",
    "        primord = primordialr(np.exp(kgrid),pi)\n",
    "    elif side == -1:\n",
    "        primord = primordiall(np.exp(kgrid),pi)\n",
    "        \n",
    "    integral2 = primord*pow(window_ng(np.exp(kgrid),m, z, h, wm, pi, side),2)\n",
    "    I2 =  scipy.integrate.romb(integral2, dx=dk)\n",
    "    return np.sqrt(factor*I2)"
   ]
  },
  {
   "cell_type": "code",
   "execution_count": null,
   "metadata": {},
   "outputs": [],
   "source": [
    "start = time.time()\n",
    "print sigmx(10**45., 1, 0.67, 0.14, 5, -1)\n",
    "print time.time() - start"
   ]
  },
  {
   "cell_type": "code",
   "execution_count": null,
   "metadata": {},
   "outputs": [],
   "source": [
    "def dlnnucdm(m, z, h, wm, pi, side):\n",
    "    eps=0.01\n",
    "    dc=delta_c(z, h, wm, pi, side)\n",
    "    nucr = dc/sigmx(m*(1+eps), z, h, wm, pi, side)\n",
    "    nucl = dc/sigmx(m*(1-eps), z, h, wm, pi, side)\n",
    "    \n",
    "    return (nucr-nucl)/(2*eps*m)"
   ]
  },
  {
   "cell_type": "code",
   "execution_count": null,
   "metadata": {},
   "outputs": [],
   "source": [
    "def dintegraldm(f_zeta, z, m, h, wm, pi, side):\n",
    "    eps=0.01\n",
    "\n",
    "    didmr = total_integral(f_zeta, z, m*(1+eps), h, wm, pi, side)\n",
    "    didml = total_integral(f_zeta, z, m*(1-eps), h, wm, pi, side)\n",
    "    return (didmr-didml)/(2.*eps*m)"
   ]
  },
  {
   "cell_type": "markdown",
   "metadata": {},
   "source": [
    "### Z index!!"
   ]
  },
  {
   "cell_type": "code",
   "execution_count": null,
   "metadata": {},
   "outputs": [],
   "source": [
    "def non_gaussian(A,f_zeta,z, m, h, wm, pi, side):\n",
    "    \n",
    "    if side==1:\n",
    "        A1 = A*(1+eps*sp(pi,4))\n",
    "    elif side==0:\n",
    "        A1 = A\n",
    "    elif side==-1:\n",
    "        A1 = A*(1-eps*sp(pi,4))\n",
    "        \n",
    "    dc=delta_c(z, h, wm, pi, side)\n",
    "    nu = dc/sigmx(m, z, h, wm, pi, side)\n",
    "    parentesis = 1 - nu**2 + (1/dlnnucdm(m, z, h, wm, pi, side))*dintegraldm(f_zeta, z, m, h, wm, pi, side)\n",
    "    \n",
    "    return 1-(A1/dc)*parentesis\n",
    "\n",
    "#non_gaussian = np.vectorize(non_gaussian)"
   ]
  },
  {
   "cell_type": "code",
   "execution_count": null,
   "metadata": {},
   "outputs": [],
   "source": [
    "start = time.time()\n",
    "print non_gaussian(0.01,1., 10, 10**45., 0.67, 0.14, 5, -1)\n",
    "print time.time() - start"
   ]
  },
  {
   "cell_type": "markdown",
   "metadata": {},
   "source": [
    "# Final Mass Function"
   ]
  },
  {
   "cell_type": "code",
   "execution_count": null,
   "metadata": {},
   "outputs": [],
   "source": [
    "def halomassfunction(A,f_zeta,zi, m, h, wm, pi, side):\n",
    "    if A==0: # LCDM\n",
    "        valor = dndm_st(zi, m, h, wm, pi, side)\n",
    "    else:\n",
    "        valor = dndm_st(zi, m, h, wm, pi, side)*non_gaussian(A,f_zeta,zi, m, h, wm, pi, side)\n",
    "    return valor\n"
   ]
  },
  {
   "cell_type": "code",
   "execution_count": null,
   "metadata": {},
   "outputs": [],
   "source": [
    "start = time.time()\n",
    "print halomassfunction(0.001,0.05,1, 10**45., href,  omegamh2ref, 1, 0)\n",
    "print time.time() - start"
   ]
  },
  {
   "cell_type": "markdown",
   "metadata": {},
   "source": [
    "# Average number density of clusters"
   ]
  },
  {
   "cell_type": "markdown",
   "metadata": {},
   "source": [
    "\\begin{equation}\n",
    "n_i = \\int_{z_{min}}^{z_{max}}{\\rm d}z\\frac{\\chi^2(z)}{H(z)}\\int_{M_{\\rm min}}^{M_{\\rm max}} \\frac{{\\rm d}M}{M}\\frac{{\\rm d}n}{{\\rm d}\\ln M}\\times\n",
    "    \\frac{1}{2} \\left[erfc(x_i)-erfc(x_{i+1})\\right]\\theta(z-z_{min})\\theta(z_{max}-z)\n",
    "\\end{equation}\n",
    "or \n",
    "\\begin{equation}\n",
    "n_i = \\int_{z_{min}}^{z_{max}}{\\rm d}z\\frac{\\chi^2(z)}{H(z)}\\int_{M_{\\rm min}}^{M_{\\rm max}} {\\rm d}M\\frac{{\\rm d}n}{{\\rm d}M}\\times\n",
    "    \\frac{1}{2} \\left[erfc(x_i)-erfc(x_{i+1})\\right]\\theta(z-z_{min})\\theta(z_{max}-z)\n",
    "\\end{equation}\n",
    "where $erfc$ is the complementary error function, and \n",
    "\\begin{equation}\n",
    "x\\left(M^{obs}\\right) = \\frac{\\ln M^{obs}-\\ln M - \\ln M^{bias}}{\\sqrt{2\\sigma_{\\ln M}^{2}}}\n",
    "\\end{equation}\n",
    "Assumptions: $\\ln M^{bias}=0$ and $\\sigma_{\\ln M}= 0.3$\n",
    "We also define, for sake of simplicity, the quantity\n",
    "\\begin{equation}\n",
    "S_{i(b)}(z) = \\frac{1}{2} \\left[erfc(x_i)-erfc(x_{i+1})\\right]\\theta(z-z_{min})\\theta(z_{max}-z)\n",
    "\\end{equation}\n",
    "which is a sort of a filter in z bin and Mass bin"
   ]
  },
  {
   "cell_type": "code",
   "execution_count": null,
   "metadata": {},
   "outputs": [],
   "source": [
    "from scipy import special\n",
    "\n",
    "def x(mobs, m):\n",
    "    sigmam = 0.3\n",
    "    return (np.log(mobs)-np.log(m))/np.sqrt(2*sigmam**2)\n",
    "\n",
    "\n",
    "def integnmean1(m, z, mobs, zi, h, wm, pi, side,A, f_zeta):\n",
    "    sigmam = 0.3\n",
    "    heavy = np.heaviside(z-zbin[zi], 1)*np.heaviside(zbin[zi+1]-z, 1)\n",
    "    erfi = (special.erfc(x(mobs, m))-special.erfc(x(mobs*(1+np.exp(sigmam)), m)))*1/2\n",
    "    vol_term = clight*dcom(z, h, wm, pi, side)**2/hubble(z, h, wm, pi, side)\n",
    "    return vol_term*heavy*erfi*halomassfunction(A,f_zeta,zi, m, h, wm, pi, side)\n",
    "\n",
    "integnmean = np.vectorize(integnmean1)\n",
    "\n",
    "\n",
    "def integrate2D(dfun, zgrid, lellgrid):\n",
    "    \n",
    "    muint = [scipy.integrate.romb(dfun.T[i], dx=np.diff(lellgrid)[0]) for i in range(zgrid.size)]\n",
    "    return scipy.integrate.romb(muint, dx=np.diff(zgrid)[0])\n",
    "\n",
    "\n",
    "#average number density of clusters\n",
    "# much faster, it needs since it has to be done in a small window, \n",
    "# we can choose small number of subdivision, error of 1e-4% with respect to the full integration\n",
    "\n",
    "def nmean1(A, f_zeta,zi, mobs, h, wm, pi, side, delm):\n",
    "    mminint = mobs*10**(-delm)\n",
    "    mmaxint = mobs*10**(+delm)\n",
    "    \n",
    "    zmin = zbin[zi]\n",
    "    zmax = zbin[zi+1]\n",
    "  \n",
    "    \n",
    "    zgrid = np.linspace(zmin,zmax, 2**2+1) \n",
    "    massgrid = np.linspace(np.log10(mminint), np.log10(mmaxint), 2**3+1)\n",
    "    m, z = np.meshgrid(massgrid, zgrid)\n",
    "    return integrate2D(np.log(10)*10**m*integnmean(10**m, z, mobs, zi, h, wm, pi, side,A, f_zeta), massgrid, zgrid)\n",
    "\n",
    "nmean = np.vectorize(nmean1)\n"
   ]
  },
  {
   "cell_type": "markdown",
   "metadata": {},
   "source": [
    "## New Halo Bias"
   ]
  },
  {
   "cell_type": "code",
   "execution_count": null,
   "metadata": {},
   "outputs": [],
   "source": [
    "def i3(f_zeta, m, z, h, wm, pi, side):\n",
    "    factor = 1./(2.*np.pi**2.)\n",
    "\n",
    "    factor1=4*np.pi/vm2(m, z, h, wm, pi, side)\n",
    "    xgrid = np.linspace(0, rm(m, z, h, wm, pi, side), 2**8+1)\n",
    "    dx1 = np.diff(xgrid)[0]\n",
    "\n",
    "    \n",
    "    sw, bx, d0dz = sigmaw_and_bx(xgrid, m, z, h, wm, pi, side)\n",
    "    deltac = 1.686*d0dz\n",
    "    \n",
    "    ########################################################\n",
    "    \n",
    "    if side==1:      \n",
    "        integer1 = math.cos(bx*deltac/(f_zeta*(1+eps*sp(pi, 5))))*np.exp(-0.5*sw/(f_zeta*(1+eps*sp(pi, 5)))**2.)\n",
    "        fz = f_zeta*(1+eps*sp(pi, 5))\n",
    "    elif side==0:\n",
    "        integer1 =math.cos(bx*deltac/(f_zeta))*np.exp(-0.5*sw/(f_zeta)**2.)\n",
    "        fz = f_zeta\n",
    "    elif side==-1:\n",
    "        integer1 =math.cos(bx*deltac/(f_zeta*(1-eps*sp(pi, 5))))*np.exp(-0.5*sw/(f_zeta*(1-eps*sp(pi, 5)))**2.)\n",
    "        fz = f_zeta*(1-eps*sp(pi, 5))\n",
    "        \n",
    "    #####################################################################################################\n",
    "    \n",
    "    return scipy.integrate.romb(integer1*xgrid**2, dx=dx1)*deltac/(fz*sigmx(m, z, h, wm, pi, side)**2.)\n",
    "\n"
   ]
  },
  {
   "cell_type": "code",
   "execution_count": null,
   "metadata": {},
   "outputs": [],
   "source": [
    "def di3dm(f_zeta,m, z, h, wm, pi, side):\n",
    "    eps=0.01\n",
    "    di2dmr = i3(f_zeta,m*(1+eps), z, h, wm, pi, side)\n",
    "    di2dml = i3(f_zeta,m*(1-eps), z, h, wm, pi, side)\n",
    "    return (di2dmr-di2dml)/(2.*eps*m)"
   ]
  },
  {
   "cell_type": "code",
   "execution_count": null,
   "metadata": {},
   "outputs": [],
   "source": [
    "def i4(f_zeta, m, z, h, wm, pi, side):\n",
    "    factor = 1./(2.*np.pi**2.)\n",
    "  \n",
    "    factor1=4*np.pi/vm2(m, z, h, wm, pi, side)\n",
    "    xgrid = np.linspace(0, rm(m, z, h, wm, pi, side), 2**8+1)\n",
    "    dx1 = np.diff(xgrid)[0]\n",
    "\n",
    "    sw, bx, d0dz = sigmaw_and_bx(xgrid, m, z, h, wm, pi, side)\n",
    "    \n",
    "    deltac = 1.686*d0dz\n",
    "    \n",
    "    ########################################################\n",
    "    \n",
    "    if side==1:\n",
    "        fz = f_zeta*(1+eps*sp(pi, 5))\n",
    "        integer1 = bx*math.sin(bx*deltac/(fz))*np.exp(-0.5*sw/(fz**2.))\n",
    "        \n",
    "    elif side==0:\n",
    "        fz = f_zeta\n",
    "        integer1 =bx*math.sin(bx*deltac/(f_zeta))*np.exp(-0.5*sw/fz**2.)\n",
    "        \n",
    "    elif side==-1:\n",
    "        fz = f_zeta*(1-eps*sp(pi, 5))\n",
    "        integer1 =bx*math.sin(bx*deltac/(f_zeta*(1-eps*sp(pi, 5))))*np.exp(-0.5*sw/(fz)**2.)\n",
    "        \n",
    "\n",
    "    \n",
    "    return scipy.integrate.romb(integer1*xgrid**2, dx=dx1)/(fz**2.)\n",
    "\n"
   ]
  },
  {
   "cell_type": "code",
   "execution_count": null,
   "metadata": {},
   "outputs": [],
   "source": [
    "def di4dm(f_zeta,m, z, h, wm, pi, side):\n",
    "    eps=0.01\n",
    "    di2dmr = i4(f_zeta,m*(1+eps), z, h, wm, pi, side)\n",
    "    di2dml = i4(f_zeta,m*(1-eps), z, h, wm, pi, side)\n",
    "    return (di2dmr-di2dml)/(2.*eps*m)\n"
   ]
  },
  {
   "cell_type": "code",
   "execution_count": null,
   "metadata": {},
   "outputs": [],
   "source": [
    "def halo_bias(zi, m, h, wm, pi, side):\n",
    "    a= 0.707\n",
    "    p = 0.3\n",
    "    dc = 1.686\n",
    "    nu = dc/smfunc(zi, m, h, wm, pi, side)\n",
    "\n",
    "    return 1+(a*nu**2-1)/dc+2*p/dc/(1+(a*nu**2)**p)\n",
    "\n",
    "def halobias_ng(A,f_zeta,k, m, z, h, wm, pi, side):\n",
    "    \n",
    "    term1 = halo_bias(z, m, h, wm, pi, side) \n",
    "    \n",
    "    term4 = A/alphak(m, k, z, h, wm, pi, side)*(1-1./dlnnucdm(m, z, h, wm, pi, side)*di3dm(f_zeta,m, z, h, wm, pi, side))\n",
    "    term5 = (A/alphak(m, k, z, h, wm, pi, side))*(1./dlnnucdm(m, z, h, wm, pi, side))*di4dm(f_zeta,m, z, h, wm, pi, side)\n",
    "    #print term1, term4, term5\n",
    "    return term1 + term4 - term5"
   ]
  },
  {
   "cell_type": "markdown",
   "metadata": {},
   "source": [
    "# Define halo bias"
   ]
  },
  {
   "cell_type": "markdown",
   "metadata": {},
   "source": [
    "For which we use the Sheth&Tormen, although new fits exist\n",
    "\\begin{equation}\n",
    "b_{\\rm ST} = 1+\\frac{a\\nu - 1}{\\delta_c}+\\frac{2p/\\delta_c}{1+(a\\nu)^p}\n",
    "\\end{equation}\n",
    "$a=0.707$, and $p=0.3.$ and $\\nu = (\\delta_c/\\sigma)^2$.\n",
    "Moreover, the window function entering in the fisher matrix is \n",
    "\\begin{equation}\n",
    "W_{i(b)}^h(z) = \\frac{1}{n_i}\\frac{\\chi^2(z)}{H(z)}\\int{\\rm d}M \\frac{{\\rm d}n}{{\\rm d}M}S_{i(b)}(z)b_{\\rm ST}(N,z) = \n",
    "\\frac{1}{n_i}\\frac{\\chi^2(z)}{H(z)}\\bar{W}_{i(b)}^h(z)\n",
    "\\end{equation}\n",
    "\n"
   ]
  },
  {
   "cell_type": "code",
   "execution_count": null,
   "metadata": {},
   "outputs": [],
   "source": [
    "\n",
    "def window_h_int(m, A, f_zeta, lell,z, zi,  mobs, h, wm, pi, side):\n",
    "    sigmam = 0.3\n",
    "    heavy = np.heaviside(z-zbin[zi], 1)*np.heaviside(zbin[zi+1]-z, 1)\n",
    "    erfi = (special.erfc(x(mobs, m))-special.erfc(x(mobs*(1+np.exp(sigmam)), m)))*1/2\n",
    "    #integnmean = erfi*halomassfunction(A,f_zeta, zi, m, h, wm, pi, side)*halo_bias(zi, m, h, wm, pi, side)\n",
    "    integnmean = erfi*halomassfunction(A,f_zeta, zi, m, h, wm, pi, side)*halobias_ng(A,f_zeta,10**lell/dcom(z,h,wm, pi, side), m, zi, h, wm, pi, side)\n",
    "    return integnmean\n",
    "\n",
    "#CHECK THIS PLEASE, the delm\n",
    "\n",
    "def window_h1(A,f_zeta,lell,z, zi, mobs, h, wm, delm, pi, side):\n",
    "    \n",
    "    mminint = mobs*10**(-delm)\n",
    "    mmaxint = mobs*10**(+delm)\n",
    "    intwind_h = scipy.integrate.quad(window_h_int,  mminint,  mmaxint, args = (A, f_zeta, lell,z, zi, mobs, h, wm, pi, side))[0]\n",
    "    return intwind_h\n",
    "\n",
    "window_h = np.vectorize(window_h1)\n",
    "\n"
   ]
  },
  {
   "cell_type": "code",
   "execution_count": null,
   "metadata": {},
   "outputs": [],
   "source": [
    "#2**8 +1\n",
    "start = time.time()\n",
    "print window_h(0.001,1.1,10,0.07, 12, 10**45., href, omegamref, 0.1, 0, 0)\n",
    "print time.time() - start"
   ]
  },
  {
   "cell_type": "markdown",
   "metadata": {},
   "source": [
    "# The covariance matrix"
   ]
  },
  {
   "cell_type": "markdown",
   "metadata": {},
   "source": [
    "The covariance matrix, to be used in the Fisher matrix is \n",
    "\\begin{equation}\n",
    "{\\rm cov}(N_{i(b)},N_{j(b')}) = N_{i(b)}\\delta_{i,j}\\delta_{bb'}+S_{i(bb')}\\delta_{ij}\n",
    "\\end{equation}\n",
    "where $i$ and $j$ run over the redshift bins, whereas $b$ and $b'$ over the masses. The function $N_{i(b)}= \\Omega_s n_i$, being $\\Omega_s $ the survey angle (in deg2). \n",
    "\n",
    "The $S_{i(bb')}$ is \n",
    "\\begin{eqnarray}\n",
    "S_{i(bb')} &=& \\Omega_{s}^2n_i n_j \\int\\frac{{\\rm d}\\chi(z)}{\\chi^2(z)}W_{i(b)}^h(z) W_{i(b')}^h(z)\\int\\frac{\\ell {\\rm d}\\ell}{2\\pi}\\left|\\tilde{W}_s(\\ell \\Theta_s)\\right|^2 P\\left(k = \\frac{\\ell}{\\chi(z)},z\\right)\\\\\n",
    "&=& \\Omega_{s}^2n_i n_j \\int{\\rm d}z\\frac{\\chi^2(z)}{H^2(z)}\\frac{1}{n_i n_j}\\bar{W}_{i(b)}^h(z) \\bar{W}_{i(b')}^h(z)\\int\\frac{\\ell {\\rm d}\\ell}{2\\pi}\\left|\\tilde{W}_s(\\ell \\Theta_s)\\right|^2 P\\left(k = \\frac{\\ell}{\\chi(z)},z\\right)\n",
    "\\end{eqnarray}\n",
    "where \n",
    "\\begin{equation}\n",
    "\\tilde{W}_s(\\ell \\Theta_s) = \\frac{2J_i(\\ell \\Theta_s)}{\\ell \\Theta_s}\n",
    "\\end{equation}\n",
    "being $J_1$ the spherical Bessel kind and $\\Theta_s$ the area of the survey in steradiants  "
   ]
  },
  {
   "cell_type": "code",
   "execution_count": null,
   "metadata": {},
   "outputs": [],
   "source": [
    "def wind_bessel1(ell, thetas):\n",
    "    spher = scipy.special.spherical_jn(1, ell*thetas, derivative=False)\n",
    "    return np.abs(2*spher/(ell*thetas))\n",
    "wind_bessel = np.vectorize(wind_bessel1)"
   ]
  },
  {
   "cell_type": "markdown",
   "metadata": {},
   "source": [
    "Let us assume for the moment the $n_i$ is mildly dependent on z, hence\n",
    "\\begin{equation}\n",
    "S_{i(bb')} = \\Omega_{s}^2  \\int{\\rm d}z\\frac{\\chi^2(z)}{H^2(z)}\\bar{W}_{i(b)}^h(z) \\bar{W}_{i(b')}^h(z)\\int\\frac{\\ell {\\rm d}\\ell}{2\\pi}\\left|\\tilde{W}_s(\\ell \\Theta_s)\\right|^2 P\\left(k = \\frac{\\ell}{\\chi(z)},z\\right)\n",
    "\\end{equation}\n",
    "Apparently there is no difference: does it mean we can take $n_i$ and $n_j$ out from the calculation? As above?\n",
    "Or do we need to check what the limit of integration in $z$ from the previous step are?"
   ]
  },
  {
   "cell_type": "code",
   "execution_count": null,
   "metadata": {},
   "outputs": [],
   "source": [
    "def ps_for_ess(zi, k, pi, side):\n",
    "    if (side==1 and pi==4) or (side==1 and pi==5):\n",
    "        return intpks(zi,k)\n",
    "    elif (side==-1 and pi==4) or (side==-1 and pi==5):\n",
    "        return intpks(zi,k)\n",
    "    elif side==1: return intpksr(zi,k, pi)\n",
    "    elif side == 0: return intpks(zi,k)\n",
    "    elif side == -1: return intpksl(zi,k, pi)\n",
    "    \n",
    "\n",
    "\n",
    "#without nmean included\n",
    "def int_ess(A,f_zeta,z, lell, zi, zj, mobs, mobs1, h, wm, delm, pi, side):\n",
    "    thetas = 4*np.pi\n",
    "    omegas = 2000\n",
    "    winds= window_h(A,f_zeta,z, zi, mobs, h, wm, delm, pi, side)*window_h(A,f_zeta,z, zj, mobs1, h, wm, delm, pi, side)\n",
    "    volt = (dcom(z, h, wm, pi, side)/hubble(z,h,wm,pi, side))**2\n",
    "    wind_b = wind_bessel(10**lell, thetas)**2\n",
    "    pk = ps_for_ess(zi, 10**lell/dcom(z,h,wm, pi, side), pi, side)\n",
    "    return omegas**2*volt*winds*wind_b*pk*10**(2*lell)/(2*np.pi)\n",
    "\n",
    "\n",
    "\n",
    "\n",
    "#with nmean included\n",
    "def int_ess_full(z, lell, zi, zj, mobs, mobs1, h, wm, delm, pi, side,A,f_zeta,nmean1,nmean2):\n",
    "    \n",
    "    thetas = 4*np.pi\n",
    "    omegas = 2000\n",
    "    winds= window_h(A,f_zeta,lell,z, zi, mobs, h, wm, delm, pi, side)*window_h(A,f_zeta,lell,z, zj, mobs1, h, wm, delm, pi, side)\n",
    "    volt = (dcom(z, h, wm, pi, side)/hubble(z,h,wm,pi, side))**2\n",
    "    wind_b = wind_bessel(10**lell, thetas)**2\n",
    "    pk = ps_for_ess(zi, 10**lell/dcom(z,h,wm, pi, side), pi, side)\n",
    "    \n",
    "    ratio_nmean = 1/(nmean1*nmean2)\n",
    "    \n",
    "    return ratio_nmean*omegas**2*volt*winds*wind_b*pk*10**(2*lell)/(2*np.pi)\n",
    "\n",
    "#int_ess_full1 = np.vectorize(int_ess_full)\n",
    "\n",
    "def integrate2D(dfun, zgrid, lellgrid):\n",
    "    \n",
    "    muint = [scipy.integrate.romb(dfun.T[i], dx=np.diff(lellgrid)[0]) for i in range(zgrid.size)]\n",
    "    return scipy.integrate.romb(muint, dx=np.diff(zgrid)[0])\n",
    "\n",
    "\n",
    "\n",
    "def ess_func(A, f_zeta,zi, zj, mobs, mobs1, h, wm, delm, pi, side):\n",
    "    ellmin = np.log10(8)\n",
    "    ellmax = np.log10(10000)\n",
    "    zmin = zlist[0]\n",
    "    zmax = zlist[-1]\n",
    "    \n",
    "    zgrid = np.linspace(zmin, zmax, 2**4+1) \n",
    "    lellgrid = np.linspace(ellmin, ellmax, 2**4+1)\n",
    "    z, lell = np.meshgrid(zgrid, lellgrid)\n",
    "\n",
    "    return integrate2D(int_ess(A, f_zeta,z, lell, zi, zj, mobs, mobs1, h, wm, delm, pi, side),zgrid, lellgrid)\n",
    "    \n",
    "    \n",
    "\n",
    "\n",
    "def ess_func_full(A,f_zeta,zi, zj, mobs, mobs1, h, wm, delm, pi, side):\n",
    "    ellmin = np.log10(8)\n",
    "    ellmax = np.log10(10000)\n",
    "    zmin = zlist[0]\n",
    "    zmax = zlist[-1]\n",
    "    zgrid = np.linspace(zmin, zmax, 2**4+1) \n",
    "    lellgrid = np.linspace(ellmin, ellmax, 2**4+1)\n",
    "    z, lell = np.meshgrid(zgrid, lellgrid)\n",
    "    \n",
    "    nmean1 = nmean(A,f_zeta,zi, mobs, h, wm, pi, side, delm)\n",
    "    nmean2 = nmean(A,f_zeta,zj, mobs1, h, wm, pi, side, delm)\n",
    "    return nmean1*nmean2*integrate2D(int_ess_full(z, lell, zi, zj, mobs, mobs1, h, wm, delm, pi, side,A,f_zeta,nmean1,nmean2),zgrid, lellgrid)\n",
    "    "
   ]
  },
  {
   "cell_type": "markdown",
   "metadata": {},
   "source": [
    "Esta es la función que tarda harto: ess_func_full"
   ]
  },
  {
   "cell_type": "code",
   "execution_count": null,
   "metadata": {},
   "outputs": [],
   "source": [
    "#start_time = time.time()\n",
    "#print ess_func_full(0.01,0.05,0, 0, 10**45., 10**45., 0.67, 0.14, 0.1, 1, 0)\n",
    "#print(time.time() - start_time)\n"
   ]
  },
  {
   "cell_type": "markdown",
   "metadata": {},
   "source": [
    "# Bulding the Cov matrix"
   ]
  },
  {
   "cell_type": "markdown",
   "metadata": {},
   "source": [
    "###### aqui te da los elementos de la matriz de covarianza, no la matriz completa asi que hay que construirla"
   ]
  },
  {
   "cell_type": "code",
   "execution_count": null,
   "metadata": {},
   "outputs": [],
   "source": [
    "def krone(ii, jj):\n",
    "    if ii==jj: return 1\n",
    "    else: return 0\n",
    "\n",
    "\n",
    "def cov_mat(A,f_zeta, zi, zj, mobs, mobs1, h, wm, delm, pi, side):\n",
    "    omegas = 2000\n",
    "    \n",
    "    if zi==zj:\n",
    "        s_cov = ess_func_full(A, f_zeta, zi, zj, mobs, mobs1, h, wm, delm, pi, side)\n",
    "\n",
    "        if mobs==mobs1:\n",
    "            n_cov=omegas*nmean(A, f_zeta, zi, mobs, h, wm, pi, side, delm)\n",
    "\n",
    "        elif mobs!=mobs1: \n",
    "            n_cov=0\n",
    "    \n",
    "    elif zi!=zj:\n",
    "        s_cov = 0\n",
    "        n_cov = 0\n",
    "        \n",
    "    return n_cov+s_cov\n",
    "    "
   ]
  },
  {
   "cell_type": "code",
   "execution_count": null,
   "metadata": {},
   "outputs": [],
   "source": [
    "cov_mat1=np.vectorize(cov_mat)"
   ]
  },
  {
   "cell_type": "markdown",
   "metadata": {},
   "source": [
    "### Creando la matriz de covarianza"
   ]
  },
  {
   "cell_type": "code",
   "execution_count": null,
   "metadata": {},
   "outputs": [],
   "source": [
    "from multiprocessing import Pool\n",
    "import multiprocessing\n",
    "from numpy import array"
   ]
  },
  {
   "cell_type": "markdown",
   "metadata": {},
   "source": [
    "# Loop A and f_zeta"
   ]
  },
  {
   "cell_type": "code",
   "execution_count": null,
   "metadata": {},
   "outputs": [],
   "source": [
    "A1 = [0.01,0.000001, 0.0001]\n",
    "f_zeta1 = [0.05,0.0001, 0.005]\n",
    "pickle_files = ['CovMatrix_NG_Af1','CovMatrix_NG_Af2','CovMatrix_NG_Af3']"
   ]
  },
  {
   "cell_type": "code",
   "execution_count": null,
   "metadata": {},
   "outputs": [],
   "source": [
    "\n",
    "def fullmatrix_perz(zi):\n",
    "    start_time = time.time()\n",
    "\n",
    "    values=[]\n",
    "    print('zi',zi)\n",
    "    for j in range(len(binm)):\n",
    "        b=binm[j]\n",
    "        a1=np.tile(binz[0],len(binm))\n",
    "        a1=list(a1)\n",
    "        print(j,'b = ',b)\n",
    "        cov1=cov_mat1(A,f_zeta,zi,a1,b,binm, href, omegamh2ref, 0.1, 8, 0)\n",
    "        for i in range(1,len(binz)):\n",
    "            a1=list(np.tile(binz[i],len(binm)))\n",
    "            cov2=cov_mat1(A,f_zeta,zi,a1,b,binm, href, omegamh2ref, 0.1, 8, 0)\n",
    "            cov1=np.hstack((cov1,cov2))\n",
    "        values.append(cov1)\n",
    "\n",
    "    print(time.time()-start_time)\n",
    "    return values"
   ]
  },
  {
   "cell_type": "code",
   "execution_count": null,
   "metadata": {},
   "outputs": [],
   "source": [
    "expmass=np.arange(44.2,45.2,0.2)\n",
    "\n",
    "binm=10**expmass\n",
    "binz=[0,1,2,3,4,5,6,7,8,9,10,11,12]\n",
    "largoz=len(binz)\n",
    "largom=len(binm)\n",
    "\n",
    "parin = ['wb','h', 'wm', 'ns','a','fz']\n",
    "nparams=len(parin)\n",
    "indices_pi = [0, 1, 2, 3, 4, 5]\n",
    "delm=0.1\n",
    "\n",
    "\n",
    "for w in range(len(A1)):\n",
    "    \n",
    "    ### Cov Matrix ###\n",
    "    \n",
    "    A = A1[w]\n",
    "    f_zeta = f_zeta1[w]\n",
    "    \n",
    "    print('Valores A = ', A, 'y f = ', f_zeta)\n",
    "    p = multiprocessing.Pool()\n",
    "\n",
    "    resultado = (p.map(fullmatrix_perz,binz))\n",
    "\n",
    "    matriz_cov=[]\n",
    "    for i in resultado:\n",
    "        for j in i:\n",
    "            matriz_cov.append(j)\n",
    "            \n",
    "    matrix_cov_matrix = np.matrix(matriz_cov)\n",
    "    covmatrix = pd.DataFrame(matrix_cov_matrix)\n",
    "    \n",
    "    ### guardando el resultado de la matrix ###\n",
    "    \n",
    "    file_pi = open(pickle_files[w]+'.obj', 'w') \n",
    "    pickle.dump(covmatrix, file_pi)\n",
    "    file_pi.close()\n",
    "    \n",
    "    ## Visualizando ##\n",
    "    \n",
    "    plt.imshow(matriz_cov)\n",
    "    plt.colorbar()\n",
    "    plt.show()\n",
    "    \n",
    "    # Desde aca todo es muy rapido, maximo 4 minutos\n",
    "    \n",
    "    inversa_cov = inv(matrix_cov_matrix)\n",
    "    \n",
    "    # formato para que sea easy to read\n",
    "    \n",
    "    num=largom\n",
    "    rangos = np.arange(0,largoz*largom,largom)\n",
    "    \n",
    "    new_inverted=[]\n",
    "\n",
    "    inversa_splitted = np.split(np.array(inversa_cov),largoz)\n",
    "\n",
    "    for i in range(largoz):\n",
    "        lista_por_line=[]\n",
    "        for j in rangos:\n",
    "            matrix1 = np.array(inversa_splitted[i])[:,j:j+num]\n",
    "            lista_por_line.append(matrix1)\n",
    "        new_inverted.append(lista_por_line)\n",
    "        \n",
    "    cosmpar = [omegabh2ref, href, omegamh2ref, nsref,A, f_zeta]\n",
    "    \n",
    "    # Generando los N right and left para Fisher\n",
    "    \n",
    "    nmeanR = []\n",
    "    nmeanL = []\n",
    "\n",
    "    for pi in range(len(parin)):\n",
    "        for m1 in binm:\n",
    "            nmeanR.append(nmean(A,f_zeta,range(13), m1, href, omegamh2ref, pi, 1, 0.1))\n",
    "            nmeanL.append(nmean(A,f_zeta,range(13), m1, href, omegamh2ref, pi, -1, 0.1))\n",
    "            \n",
    "    nmeanright = []\n",
    "    nmeanleft = []\n",
    "    j=0\n",
    "    for i in range(1,7):\n",
    "        right = []\n",
    "        left = []\n",
    "\n",
    "        for w in binz:\n",
    "            cosa = np.array(nmeanR[j:5*i])[:,w]\n",
    "            cosa2 = np.array(nmeanL[j:5*i])[:,w]\n",
    "            right.append(cosa)\n",
    "            left.append(cosa2)\n",
    "        nmeanright.append(right)\n",
    "        nmeanleft.append(left)\n",
    "    \n",
    "        j=j+5\n",
    "        \n",
    "    ### Ahora Fisher ###\n",
    "    \n",
    "    fishermatrix=[]\n",
    "\n",
    "    for i in range(nparams):\n",
    "        print('Indice, parametro y nombre del parametro: ', indices_pi[i],cosmpar[i], parin[i])\n",
    "        matrix2=[]\n",
    "        for j in range(nparams):\n",
    "            suma=0\n",
    "            for zi in range(len(binz)):\n",
    "                for zj in range(len(binz)):\n",
    "                    ni_p = nmeanright[i][zi]\n",
    "                    ni_m = nmeanleft[i][zi]\n",
    " \n",
    "                    invcov = new_inverted[zi][zj]\n",
    "                \n",
    "                    nj_p = nmeanright[j][zj]\n",
    "                    nj_m = nmeanleft[j][zj]\n",
    "\n",
    "                    derivative =  (ni_p - ni_m)/(2*eps*cosmpar[i])\n",
    "                    derivative2 = (nj_p - nj_m)/(2*eps*cosmpar[j])\n",
    "                \n",
    "                    derivative = np.matrix(derivative)\n",
    "                    derivative2 =np.matrix(derivative2)\n",
    "                \n",
    "                    fish = np.dot(derivative,np.dot(invcov,derivative2.T))\n",
    "                \n",
    "                    suma=suma+fish\n",
    "  \n",
    "            matrix2.append(suma)\n",
    "        fishermatrix.append(matrix2)\n",
    "\n",
    "    df = pd.DataFrame(fishermatrix, columns = parin, index=parin)\n",
    "    df1 = df.astype(float)\n",
    "    arrayfisher=np.matrix(df1)\n",
    "\n",
    "    inversafisher= arrayfisher.I\n",
    "\n",
    "    df2 = pd.DataFrame(inversafisher, columns = parin, index=parin)\n",
    "    for i in parin:\n",
    "        print('Results')\n",
    "        print(i, ' = ',np.sqrt(df2[i][i]))"
   ]
  },
  {
   "cell_type": "markdown",
   "metadata": {},
   "source": [
    "## Errors 68% N-Counts Alone"
   ]
  },
  {
   "cell_type": "code",
   "execution_count": null,
   "metadata": {},
   "outputs": [],
   "source": [
    "#('wb', ' = ', 0.031964234157567946)\n",
    "#('h', ' = ', 0.1572321302593544)\n",
    "#('wm', ' = ', 0.15584643336168957)\n",
    "#('ns', ' = ', 0.5148361299826929)\n"
   ]
  },
  {
   "cell_type": "markdown",
   "metadata": {},
   "source": [
    "# References"
   ]
  },
  {
   "cell_type": "markdown",
   "metadata": {},
   "source": [
    "Primordial power spectrum"
   ]
  },
  {
   "cell_type": "markdown",
   "metadata": {},
   "source": [
    "https://classylss.readthedocs.io/en/stable/api/classylss.binding.html#classylss.binding.Primordial.get_pk \n",
    "ecc 2: https://arxiv.org/pdf/1303.5076.pdf"
   ]
  },
  {
   "cell_type": "markdown",
   "metadata": {},
   "source": [
    "Transfer function"
   ]
  },
  {
   "cell_type": "markdown",
   "metadata": {},
   "source": [
    "https://classylss.readthedocs.io/en/stable/api/classylss.binding.html#classylss.binding.Spectra.get_transfer \n",
    "https://gitlab.dur.scotgrid.ac.uk/dm-interactions/class_v2.7_ndm/blob/c15781e82037ad55abccd9914171b18194ef638a/python/classy.pyx \n",
    "plots: https://ned.ipac.caltech.edu/level5/Sept03/Peacock/Peacock2_5.html"
   ]
  },
  {
   "cell_type": "markdown",
   "metadata": {},
   "source": [
    "D(z)"
   ]
  },
  {
   "cell_type": "markdown",
   "metadata": {},
   "source": [
    "https://gitlab.dur.scotgrid.ac.uk/dm-interactions/class_v2.7_ndm/blob/c15781e82037ad55abccd9914171b18194ef638a/python/classy.pyx"
   ]
  }
 ],
 "metadata": {
  "kernelspec": {
   "display_name": "Python 3",
   "language": "python",
   "name": "python3"
  },
  "language_info": {
   "codemirror_mode": {
    "name": "ipython",
    "version": 3
   },
   "file_extension": ".py",
   "mimetype": "text/x-python",
   "name": "python",
   "nbconvert_exporter": "python",
   "pygments_lexer": "ipython3",
   "version": "3.7.6"
  }
 },
 "nbformat": 4,
 "nbformat_minor": 2
}
